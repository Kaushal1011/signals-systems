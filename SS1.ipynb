{
 "cells": [
  {
   "cell_type": "markdown",
   "metadata": {},
   "source": [
    "# Signals and Systems \n"
   ]
  },
  {
   "cell_type": "markdown",
   "metadata": {},
   "source": [
    "__Signal__ : Any physical quantity that changes with time or space or both is a signal \n",
    "> Imagine a linear array describing some property(like amplitude) of a quantity(physical quantity such as sound) wrt time or space or both.\n"
   ]
  },
  {
   "cell_type": "markdown",
   "metadata": {},
   "source": [
    " Processing Options\n",
    "\n",
    "- Addition of two or more signals\n",
    "- Subtraction of signals \n",
    "- Multiplication\n",
    "- Division\n",
    "- Differentiation\n",
    "- Integration\n",
    "- Filtering"
   ]
  },
  {
   "cell_type": "markdown",
   "metadata": {},
   "source": [
    "## Transducers \n",
    "\n",
    "* Comvert one form of signal into another form of signal"
   ]
  },
  {
   "cell_type": "markdown",
   "metadata": {},
   "source": [
    "## __Classification of signals__ \n",
    "\n",
    "1. Prdicatable Signal\n",
    "2. Unpredicatable Signal\n",
    "\n"
   ]
  },
  {
   "cell_type": "markdown",
   "metadata": {},
   "source": [
    "_Predicatable signals_ are functions that can be plotted as a function of time.\n",
    "for example"
   ]
  },
  {
   "cell_type": "code",
   "execution_count": 2,
   "metadata": {},
   "outputs": [
    {
     "data": {
      "text/plain": [
       "<Figure size 1600x400 with 1 Axes>"
      ]
     },
     "metadata": {},
     "output_type": "display_data"
    }
   ],
   "source": [
    "import numpy as np\n",
    "import seaborn as sns\n",
    "import matplotlib.pyplot as plt\n",
    "\n",
    "A=np.linspace(-10,10,1000)\n",
    "B=np.sin(A)\n",
    "\n",
    "plt.figure(figsize=(16,4))\n",
    "plt.plot(B,\"r-\")\n",
    "plt.show()"
   ]
  },
  {
   "cell_type": "markdown",
   "metadata": {},
   "source": [
    "_Unpredicatable signals_ are functions that cannot be plotted as function as space or time.\n",
    "Examples are\n",
    "\n",
    "1. Information carrying signal\n",
    "2. Noise signal"
   ]
  },
  {
   "cell_type": "markdown",
   "metadata": {},
   "source": [
    "###  Frequency Domain Description\n",
    "\n",
    "???\n",
    "\n",
    "### Sepctrum of periodic and non-periodic signals"
   ]
  },
  {
   "cell_type": "markdown",
   "metadata": {},
   "source": [
    "# Notation\n",
    "\n",
    "* x(t) denotes a signal\n",
    "* x denotes the instantaneous amplitude\n",
    "* t denotes time\n",
    "* Nature of variables\n",
    " Continuous\n",
    " Discrete"
   ]
  },
  {
   "cell_type": "markdown",
   "metadata": {},
   "source": [
    "## Analog Signal\n",
    "\n",
    "- Both x and t continuous variables (Continuous Amplitude, Continuous time CA/CT) : Analog signal\n",
    "\n",
    "\n",
    "## Digital Signal\n",
    "\n",
    "- DA/DT\n",
    "- Most transducers give analog signal\n",
    " Microphone output\n",
    " Thermocouple\n",
    "* Analog to Digital converters\n",
    " Convert analog signal into a digital signal\n"
   ]
  },
  {
   "cell_type": "markdown",
   "metadata": {},
   "source": [
    "___Sampling___ : Converts CA/CT signal into CA/DT signals\n",
    "\n",
    "How to?\n",
    "\n",
    "- __Multiplier__ : One input is the signal and the other input is a periodic trains of narrow pulses\n"
   ]
  },
  {
   "cell_type": "markdown",
   "metadata": {},
   "source": [
    "![img](img/sampling.png)"
   ]
  },
  {
   "cell_type": "markdown",
   "metadata": {},
   "source": [
    "_Quantization_ : This converts continuos amplitude to discrete amplitude\n",
    "\n",
    "_Encoding_ : Converts quantized amplitudes to binary values\n",
    "\n",
    "About (DA/CT)\n",
    "\n",
    "About Basic Elements of a DSP System\n",
    "\n",
    "DSP vs ASP"
   ]
  },
  {
   "cell_type": "markdown",
   "metadata": {},
   "source": [
    "## Discrete Time Signal"
   ]
  },
  {
   "cell_type": "markdown",
   "metadata": {},
   "source": [
    "___Discrete time signals___ are “the signals or quantities that can be defined and represented at certain time instants of the sequence.” These are finite or countable sets of number sequences. They are also called digitalized signals."
   ]
  },
  {
   "cell_type": "code",
   "execution_count": 3,
   "metadata": {},
   "outputs": [
    {
     "data": {
      "image/png": "[encoded data removed]",
      "text/plain": [
       "<Figure size 432x288 with 1 Axes>"
      ]
     },
     "metadata": {
      "needs_background": "light"
     },
     "output_type": "display_data"
    }
   ],
   "source": [
    "a=np.linspace(-5,5,10)\n",
    "# plt.figure(figsize=(16,8))\n",
    "plt.stem(a,linefmt=\"-.\",use_line_collection=True,label=\"DT\")\n",
    "plt.plot(a,\"r-\",label=\"CT\")\n",
    "plt.legend()\n",
    "plt.show()\n",
    "# plt.hist(a)\n"
   ]
  },
  {
   "cell_type": "markdown",
   "metadata": {},
   "source": [
    "- Continuous Time signal\n",
    " x(t) : t is a continuous variable\n",
    " Can be described by an equation\n",
    " Graph\n",
    "- Discrete Time signal\n",
    " x(n) : n is an integer\n",
    " Can be described by an equation\n",
    " By a line plot\n",
    " By a sequence of values within a bracket\n"
   ]
  },
  {
   "cell_type": "markdown",
   "metadata": {},
   "source": [
    "__Sequencd__ :An infinite sequence\n",
    "\n",
    "x(n) = { ---- , x(-3), x(-2), x(-1), x(0),x(1),x(2), ----}\n",
    "\n",
    "\n",
    "The arrow denotes the value at n = 0\n",
    "i.e.\n",
    "\n",
    "x(n) = { ----, -2,1.3 , 2 -3.4, -1 , -2, 1, ----}"
   ]
  },
  {
   "cell_type": "markdown",
   "metadata": {},
   "source": [
    "___Finite length signal___ is defined only for a finite time\n",
    "interval\n",
    "\n",
    "\n",
    "___Zero Padding___\n",
    "\n",
    "* Signal length can be increased by adding zero valued samples outside the range\n",
    "    - x(n) = { 3, -2, 1, 0, 2, -3, -1, 0, 2, 1 }\n",
    "* The length is 10. This can be increased\n",
    "    - x(n) = { 0,0,3, -2, 1, 0, 2, -3, -1, 0, 2, 1,0,0 } Now N = 14\n"
   ]
  },
  {
   "cell_type": "markdown",
   "metadata": {},
   "source": [
    "### Basic Operations on discrete time signals"
   ]
  },
  {
   "cell_type": "markdown",
   "metadata": {},
   "source": [
    "* Signal addition\n",
    "   - think of it as adding two linear arrays of same size  where each array contains data representing data describing amplitude of a signal\n",
    "     - additing of matrix of size 1xN(where DT has N samples)\n",
    "* Scalar Addition\n",
    "  - think of it as adding a scalar to an array of some size  where  array contains data representing data describing amplitude of a signal\n",
    "  \n",
    "*  Signal Mulitplication\n",
    "    - - think of it as multiplying two linear arrays of same size  where each array contains data representing data describing amplitude of a signal\n",
    "\n",
    "* Scalar Multiplication\n",
    "    - think of it as multiplying a scalar to an array of some size  where  array contains data representing data describing amplitude of a signal"
   ]
  },
  {
   "cell_type": "code",
   "execution_count": 4,
   "metadata": {},
   "outputs": [
    {
     "data": {
      "text/plain": [
       "[]"
      ]
     },
     "execution_count": 4,
     "metadata": {},
     "output_type": "execute_result"
    },
    {
     "data": {
      "image/png": "[encoded data removed]",
      "text/plain": [
       "<Figure size 720x504 with 1 Axes>"
      ]
     },
     "metadata": {
      "needs_background": "light"
     },
     "output_type": "display_data"
    }
   ],
   "source": [
    "x=np.linspace(-5,5,20)\n",
    "y=np.linspace(-4,9,20)\n",
    "z=x+y\n",
    "x=np.sin(x)\n",
    "y=np.cos(y)\n",
    "z=x+y\n",
    "plt.figure(figsize=(10,7))\n",
    "plt.title(\"Example of Signal Addition\")\n",
    "plt.stem(range(len(x)),x,\"r\",markerfmt=\"ro\",label=\"sinx\",use_line_collection=True)\n",
    "plt.stem(range(len(y)),y,\"b\",markerfmt=\"bo\",label=\"siny\",use_line_collection=True)\n",
    "plt.stem(range(len(z)),z,\"g\",markerfmt=\"go\",label=\"sinx+siny\",use_line_collection=True)\n",
    "plt.plot(x,\"r-.\",label=\"x-\")\n",
    "plt.plot(y,\"b-.\",label=\"y-\")\n",
    "plt.plot(z,\"g--\",label=\"x+y -\")\n",
    "\n",
    "plt.legend()\n",
    "plt.plot()"
   ]
  },
  {
   "cell_type": "markdown",
   "metadata": {},
   "source": [
    "## Transformation of independent variable\n",
    "\n",
    "- Time delay\n",
    "- Time shifting\n",
    "    - delay\n",
    "    - advance\n",
    "- Time Scaling\n",
    "    - Decimation\n",
    "        - Decimation refers to the process of reducing signal             length by discarding signal samples\n",
    "        -  y(n) = x(Mn)\n",
    "           \n",
    "           M is an integer.\n",
    "           \n",
    "           Every Mth sample of x(n) is kept and discarding\n",
    "            (M-1) samples in between.\n",
    "            \n",
    "    - Interpolation\n",
    "        - Interpolation refers to the process of increasing the           signal length by inserting zeros between signal                 samples.\n",
    "        - y(n)=x(n/L)   n=0,+-L,+-2L\n",
    "        - y(n)=0\n",
    "        - The process consists of inserting L-1 zero valued               samples between each two consecutive samples of\n",
    "          x(n)\n",
    "       \n"
   ]
  },
  {
   "cell_type": "markdown",
   "metadata": {},
   "source": [
    "__Time Reversal__\n",
    "\n",
    "__Combined Operations__"
   ]
  },
  {
   "cell_type": "markdown",
   "metadata": {},
   "source": [
    "### Some basic Discrete time signals\n",
    "\n",
    "__Unit Step__"
   ]
  },
  {
   "cell_type": "code",
   "execution_count": 5,
   "metadata": {},
   "outputs": [],
   "source": [
    "A=np.zeros(11)\n",
    "A[5:]=1"
   ]
  },
  {
   "cell_type": "code",
   "execution_count": 6,
   "metadata": {},
   "outputs": [
    {
     "data": {
      "text/plain": [
       "<StemContainer object of 3 artists>"
      ]
     },
     "execution_count": 6,
     "metadata": {},
     "output_type": "execute_result"
    },
    {
     "data": {
      "image/png": "[encoded data removed]",
      "text/plain": [
       "<Figure size 432x288 with 1 Axes>"
      ]
     },
     "metadata": {
      "needs_background": "light"
     },
     "output_type": "display_data"
    }
   ],
   "source": [
    "plt.stem(np.arange(-5,6),A,\"c\",markerfmt=\"c.\",use_line_collection=True)"
   ]
  },
  {
   "cell_type": "markdown",
   "metadata": {},
   "source": [
    "__Unit Impulse__"
   ]
  },
  {
   "cell_type": "code",
   "execution_count": 7,
   "metadata": {},
   "outputs": [
    {
     "data": {
      "text/plain": [
       "<StemContainer object of 3 artists>"
      ]
     },
     "execution_count": 7,
     "metadata": {},
     "output_type": "execute_result"
    },
    {
     "data": {
      "image/png": "[encoded data removed]",
      "text/plain": [
       "<Figure size 432x288 with 1 Axes>"
      ]
     },
     "metadata": {
      "needs_background": "light"
     },
     "output_type": "display_data"
    }
   ],
   "source": [
    "A=np.zeros(11)\n",
    "A[5]=1\n",
    "plt.stem(np.arange(-5,6),A,\"c\",markerfmt=\"c.\",use_line_collection=True)"
   ]
  },
  {
   "cell_type": "markdown",
   "metadata": {},
   "source": [
    "__Unit Ramp signal__"
   ]
  },
  {
   "cell_type": "code",
   "execution_count": 8,
   "metadata": {},
   "outputs": [],
   "source": [
    "A=np.zeros(30)\n",
    "A[15:]=np.linspace(0,1.,15)"
   ]
  },
  {
   "cell_type": "code",
   "execution_count": 9,
   "metadata": {},
   "outputs": [
    {
     "data": {
      "text/plain": [
       "<StemContainer object of 3 artists>"
      ]
     },
     "execution_count": 9,
     "metadata": {},
     "output_type": "execute_result"
    },
    {
     "data": {
      "image/png": "[encoded data removed]",
      "text/plain": [
       "<Figure size 432x288 with 1 Axes>"
      ]
     },
     "metadata": {
      "needs_background": "light"
     },
     "output_type": "display_data"
    }
   ],
   "source": [
    "plt.stem(np.linspace(-5,5,30),A,\"c\",markerfmt=\"co\",use_line_collection=True)"
   ]
  },
  {
   "cell_type": "markdown",
   "metadata": {},
   "source": [
    "#### Discrete time real exponential signals\n",
    "Search\n",
    "\n",
    "### Discrete time plot for sine wave"
   ]
  },
  {
   "cell_type": "code",
   "execution_count": 18,
   "metadata": {},
   "outputs": [
    {
     "data": {
      "text/plain": [
       "<StemContainer object of 3 artists>"
      ]
     },
     "execution_count": 18,
     "metadata": {},
     "output_type": "execute_result"
    },
    {
     "data": {
      "image/png": "[encoded data removed]",
      "text/plain": [
       "<Figure size 432x288 with 1 Axes>"
      ]
     },
     "metadata": {
      "needs_background": "light"
     },
     "output_type": "display_data"
    }
   ],
   "source": [
    "a=np.linspace(-6.24,6.24,20)\n",
    "b=np.sin(a)\n",
    "plt.stem(np.arange(20),b,\"g\",markerfmt=\"go\",use_line_collection=True)"
   ]
  },
  {
   "cell_type": "code",
   "execution_count": null,
   "metadata": {},
   "outputs": [],
   "source": []
  },
  {
   "cell_type": "code",
   "execution_count": null,
   "metadata": {},
   "outputs": [],
   "source": []
  }
 ],
 "metadata": {
  "kernelspec": {
   "display_name": "Python 3",
   "language": "python",
   "name": "python3"
  },
  "language_info": {
   "codemirror_mode": {
    "name": "ipython",
    "version": 3
   },
   "file_extension": ".py",
   "mimetype": "text/x-python",
   "name": "python",
   "nbconvert_exporter": "python",
   "pygments_lexer": "ipython3",
   "version": "3.7.4"
  }
 },
 "nbformat": 4,
 "nbformat_minor": 4
}
